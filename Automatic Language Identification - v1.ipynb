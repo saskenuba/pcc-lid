{
 "cells": [
  {
   "cell_type": "code",
   "execution_count": 1,
   "metadata": {},
   "outputs": [
    {
     "name": "stderr",
     "output_type": "stream",
     "text": [
      "WARNING:root:Setting up a new session...\n"
     ]
    }
   ],
   "source": [
    "import math\n",
    "import os\n",
    "import pathlib\n",
    "import random\n",
    "from datetime import datetime\n",
    "\n",
    "import cv2\n",
    "import IPython.display as ipd\n",
    "import librosa\n",
    "import librosa.display\n",
    "import numpy as np\n",
    "import pandas as pd\n",
    "import torch\n",
    "import torch.nn as nn\n",
    "import torch.nn.functional as F\n",
    "from torch.utils.data import DataLoader, Dataset, SubsetRandomSampler\n",
    "\n",
    "from helpers import Compose\n",
    "from visualizations import Visualizations\n",
    "\n",
    "# from torchvision import transforms\n",
    "\n",
    "vis = Visualizations()\n",
    "\n",
    "# setting reprodutibilitty\n",
    "# torch.manual_seed(0)\n",
    "# np.random.seed(0)\n",
    "\n",
    "# from fastai.vision import Image\n",
    "# import torchaudio\n",
    "# import matplotlib.pyplot as plt\n",
    "# import pyrubberband as pyrb\n",
    "# from torchsummary import summary"
   ]
  },
  {
   "cell_type": "code",
   "execution_count": 2,
   "metadata": {},
   "outputs": [],
   "source": [
    "def languageToLabel(language):\n",
    "    '''Troca a representação em string da classe para uma representação em int\n",
    "    \n",
    "        language: string\n",
    "    '''\n",
    "\n",
    "    if language == 'alemao':\n",
    "        return 0\n",
    "    elif language == 'ingles':\n",
    "        return 1\n",
    "    elif language == 'espanhol':\n",
    "        return 2\n",
    "\n",
    "tempo_inicio_treino = datetime.now()\n",
    "def save_model(name):\n",
    "    '''Pode ser usado para salvar parâmetros a cada epoch.'''\n",
    "    \n",
    "    tempo_formatado = tempo_inicio_treino.strftime(\"%d-%m-%Y-%H:%M:%S\")\n",
    "    folder_path = F'./data/pth_checkpoints/{tempo_formatado}'\n",
    "    pathlib.Path(folder_path).mkdir(parents=True, exist_ok=True)\n",
    "    \n",
    "    # somente os parâmetros\n",
    "    save_path = folder_path + F'/{name}.pth'\n",
    "    checkpoint = {\n",
    "        'state_dict': model.state_dict(),\n",
    "        'optimizer': optimizer.state_dict(),\n",
    "    }\n",
    "    torch.save(checkpoint, save_path)\n",
    "\n",
    "    # todo o modelo\n",
    "    save_path_full = folder_path + F'/{name}_full.pth'\n",
    "    torch.save(model, save_path_full)\n",
    "    \n",
    "def load_model(model, optimizer, full_path):\n",
    "    \n",
    "    checkpoint = torch.load(full_path)\n",
    "    model.load_state_dict(checkpoint['state_dict'])\n",
    "    optimizer.load_state_dict(checkpoint['optimizer'])"
   ]
  },
  {
   "cell_type": "code",
   "execution_count": 3,
   "metadata": {},
   "outputs": [],
   "source": [
    "class MeuDataset(Dataset):\n",
    "    '''Inicialização\n",
    "\n",
    "    Nota que devemos croppar para 220500 p/ aumentar o batch size.\n",
    "    '''\n",
    "    def __init__(self, rootPath, csvPath, transform=None):\n",
    "        self.csvData = pd.read_csv(csvPath, delimiter=';')\n",
    "        self.rootPath = rootPath\n",
    "        self.list_IDs = self.csvData.iloc[:, 0]\n",
    "        self.labels = self.csvData.iloc[:, 1]\n",
    "        self.transform = transform\n",
    "\n",
    "    def __len__(self):\n",
    "        '''Número total de amostras'''\n",
    "        return self.csvData.shape[0]\n",
    "\n",
    "    def __getitem__(self, index):\n",
    "        'Gera uma amostra da lista'\n",
    "        # Carrega a amostra e pega a label\n",
    "        X = librosa.load(self.rootPath + self.list_IDs[index])\n",
    "        y = languageToLabel(self.labels[index])\n",
    "\n",
    "        audio_sample = {}\n",
    "        audio_sample['sample_array'], audio_sample['sample_rate'] = X\n",
    "\n",
    "        # croppamos os que não estão no padrão\n",
    "        audio_sample['sample_array'] = audio_sample['sample_array'][:220500]\n",
    "\n",
    "        if self.transform:\n",
    "            X = self.transform(audio_sample)\n",
    "\n",
    "        return X, y\n",
    "\n",
    "    @staticmethod\n",
    "    def get_mean_std(dataloader):\n",
    "        '''\n",
    "        Iterates through batches and extract its mean and std dev.\n",
    "        This is supposed to run only once, and then hard code the results into the normalization step.\n",
    "        \n",
    "        Params:\n",
    "            loader: Dataloader object\n",
    "        \n",
    "        Returns:\n",
    "            tuple of mean and standard deviation of all examples in dataloader\n",
    "        \n",
    "        '''\n",
    "\n",
    "        mu = 0\n",
    "        sigma = 0\n",
    "        nb_samples = 0\n",
    "        current_batch = 1\n",
    "        for images_list, labels in dataloader:\n",
    "\n",
    "            batch_samples = images_list.size(0)\n",
    "            #             print(images_list.size())\n",
    "\n",
    "            flatenned_spectrograms = images_list.view(batch_samples,\n",
    "                                                      images_list.size(1), -1)\n",
    "            #             print(flatenned_spectrograms.size())\n",
    "\n",
    "            mu += flatenned_spectrograms.mean(2).sum(0)\n",
    "            sigma += flatenned_spectrograms.std(2).sum(0)\n",
    "\n",
    "            #             print(mu.size())\n",
    "            #             print(sigma.size())\n",
    "\n",
    "            nb_samples += batch_samples\n",
    "            current_batch += 1\n",
    "            print(current_batch)\n",
    "\n",
    "        mu = mu / nb_samples\n",
    "        sigma = sigma / nb_samples\n",
    "\n",
    "        return mu, sigma\n",
    "\n",
    "    @property\n",
    "    def classes(self):\n",
    "        return self.labels.unique()"
   ]
  },
  {
   "cell_type": "code",
   "execution_count": 4,
   "metadata": {},
   "outputs": [],
   "source": [
    "# transformations\n",
    "class ToSpectrogram(object):\n",
    "    '''Convert audio sample to Mel-Spectrogram and resize it, multiplying its size to a number'''\n",
    "    def __init__(self, multiply_by):\n",
    "        '''Multiply spectrogram size by number\n",
    "\n",
    "        multiply_by: int\n",
    "\n",
    "        '''\n",
    "\n",
    "        self.multiply_by = multiply_by\n",
    "\n",
    "    def __call__(self, audio_sample):\n",
    "        '''Convert audio to mel-spectrogram and then resizes it'''\n",
    "\n",
    "        audio_sample_array, sample_rate = audio_sample[\n",
    "            'sample_array'], audio_sample['sample_rate']\n",
    "\n",
    "        # setar para escala mel\n",
    "        S = librosa.feature.melspectrogram(audio_sample_array,\n",
    "                                           sr=sample_rate,\n",
    "                                           n_mels=128,\n",
    "                                           n_fft=1024,\n",
    "                                           hop_length=256,\n",
    "                                           fmin=0.0,\n",
    "                                           fmax=None)\n",
    "\n",
    "        # arrumar amplitude\n",
    "        S = librosa.amplitude_to_db(S, ref=np.min, amin=1e-05, top_db=120.0)\n",
    "\n",
    "        new_H = S.shape[0] * self.multiply_by\n",
    "        new_W = S.shape[1] * self.multiply_by\n",
    "\n",
    "        resized_spectrogram = cv2.resize(S,\n",
    "                                         dsize=(new_W, new_H),\n",
    "                                         interpolation=cv2.INTER_CUBIC)\n",
    "\n",
    "        return resized_spectrogram\n",
    "\n",
    "\n",
    "class ToTensor(object):\n",
    "    \"\"\"Convert ndarrays in sample to Tensors.\n",
    "\n",
    "    object: np.array\n",
    "    \"\"\"\n",
    "    def __call__(self, spectrogram):\n",
    "        '''Insert dimension of size one at first position'''\n",
    "\n",
    "        # swap color axis because\n",
    "        # numpy image: H x W x C\n",
    "        # torch image: C X H X W\n",
    "\n",
    "        return torch.from_numpy(spectrogram).unsqueeze(0)\n",
    "\n",
    "\n",
    "class Normalize(object):\n",
    "    '''Normalizes tensors by subtracting by its mean, and dividing by the std deviation\n",
    "    \n",
    "    object: tensor\n",
    "    '''\n",
    "    def __init__(self, stats):\n",
    "        '''\n",
    "        stats: tuple with (mean, std_dev)\n",
    "        '''\n",
    "\n",
    "        self.mean, self.std_dev = stats\n",
    "\n",
    "    def __call__(self, tensor):\n",
    "\n",
    "        return (tensor - self.mean) / self.std_dev"
   ]
  },
  {
   "cell_type": "code",
   "execution_count": 5,
   "metadata": {},
   "outputs": [],
   "source": [
    "def init_weights(m):\n",
    "    '''Initializing weights as described by Kaiming et al. '''\n",
    "    if type(m) == nn.Linear:\n",
    "        torch.nn.init.kaiming_uniform_(m.weight)\n",
    "        m.bias.data.fill_(0.01)\n",
    "\n",
    "\n",
    "class CRNN(nn.Module):\n",
    "    '''Teste'''\n",
    "    def __init__(self, H_W, nb_classes):\n",
    "        '''H_W: tuple'''\n",
    "        super(CRNN, self).__init__()\n",
    "\n",
    "        self.H, self.W = H_W\n",
    "\n",
    "        # time feature extraction\n",
    "        self.conv1_time = nn.Conv2d(1,\n",
    "                                    out_channels=32,\n",
    "                                    kernel_size=(6, self.W - 1),\n",
    "                                    padding=(0, 428),\n",
    "                                    bias=False)\n",
    "        self.bn1_time = nn.BatchNorm2d(32)\n",
    "        self.relu1_time = nn.LeakyReLU(negative_slope=1e-2)\n",
    "        self.maxpool_time = nn.MaxPool2d((8, 16))\n",
    "\n",
    "        # frequency feature extraction\n",
    "        self.conv1_freq = nn.Conv2d(1,\n",
    "                                    out_channels=32,\n",
    "                                    kernel_size=(self.H, 5),\n",
    "                                    padding=(61, 0),\n",
    "                                    bias=False)\n",
    "        self.bn1_freq = nn.BatchNorm2d(32)\n",
    "        self.relu1_freq = nn.LeakyReLU(negative_slope=1e-2)\n",
    "        self.maxpool_freq = nn.MaxPool2d((8, 16))\n",
    "\n",
    "        self.dense_layer = nn.Linear(64 * 15 * 53, nb_classes)\n",
    "        # self.dense_layer = nn.Linear(64 * 61 * 429, nb_classes)\n",
    "        # self.dense_layer = nn.Linear(32 * 125 * 1, nb_classes)\n",
    "\n",
    "    def forward(self, x):\n",
    "        '''Here we forward the spectrogram two times to a first-layer, then we concat\n",
    "        these two first layers and we go through the forward propagation.\n",
    "\n",
    "        '''\n",
    "\n",
    "        x1 = x\n",
    "        x2 = x\n",
    "\n",
    "        x1 = self.conv1_time(x1)\n",
    "        x1 = self.bn1_time(x1)\n",
    "        x1 = self.relu1_time(x1)\n",
    "        x1 = self.maxpool_time(x1)\n",
    "\n",
    "        x2 = self.conv1_freq(x2)\n",
    "        x2 = self.bn1_freq(x2)\n",
    "        x2 = self.relu1_freq(x2)\n",
    "        x2 = self.maxpool_freq(x2)\n",
    "\n",
    "        # print(\"x1 shape: \", x1.shape)\n",
    "        # print(\"x2 shape: \", x2.shape)\n",
    "\n",
    "        x = torch.cat((x1, x2), dim=1)\n",
    "        # print(\"after concat: \", x.shape)\n",
    "\n",
    "        # flatten\n",
    "        x = x.view(x.size(0), -1)\n",
    "\n",
    "        #         print(\"after flatten: \", x.shape)\n",
    "\n",
    "        x = self.dense_layer(x)\n",
    "        x = F.log_softmax(x, dim=1)\n",
    "\n",
    "        return x"
   ]
  },
  {
   "cell_type": "code",
   "execution_count": 6,
   "metadata": {},
   "outputs": [],
   "source": [
    "def make_dataloader(dataset,\n",
    "                    training_percentage,\n",
    "                    batch_size,\n",
    "                    debug=False,\n",
    "                    debug_size=0.02):\n",
    "    '''Split dataset into training_set and test_set\n",
    "    \n",
    "    Params:\n",
    "        dataset: dataset\n",
    "        training_percentage: float number between [0, 1] to split train/test set.\n",
    "        \n",
    "    Returns:\n",
    "        training_loader, test_loader: DataLoader objects\n",
    "    '''\n",
    "\n",
    "    DEBUG_PERCENT_SIZE = debug_size\n",
    "\n",
    "    dataset_length = len(dataset) if not debug else math.floor(\n",
    "        len(dataset) * DEBUG_PERCENT_SIZE)\n",
    "    training_set_size = math.floor(dataset_length * training_percentage)\n",
    "    test_set_size = dataset_length - training_set_size\n",
    "\n",
    "    if debug:\n",
    "        print(F\"Debug: {debug}\\n\"\n",
    "              F\"Dataset Length: {dataset_length}\\n\"\n",
    "              F\"Training Set Size: {training_set_size}\\n\"\n",
    "              F\"Test Set Size: {test_set_size}\\n\"\n",
    "              F\"Sanity Check: {training_set_size + test_set_size}\")\n",
    "\n",
    "    indices = np.random.permutation(len(dataset))\n",
    "    training_idxs = indices[:training_set_size]\n",
    "    test_idxs = indices[training_set_size:training_set_size + test_set_size]\n",
    "\n",
    "    training_sampler = SubsetRandomSampler(training_idxs)\n",
    "    test_sampler = SubsetRandomSampler(test_idxs)\n",
    "\n",
    "    training_loader = DataLoader(dataset,\n",
    "                                 batch_size=batch_size,\n",
    "                                 num_workers=2,\n",
    "                                 sampler=training_sampler,\n",
    "                                 # pin_memory=True,\n",
    "                                 drop_last=True)\n",
    "\n",
    "    test_loader = DataLoader(\n",
    "        dataset,\n",
    "        batch_size=batch_size,\n",
    "        num_workers=2,\n",
    "        sampler=test_sampler,\n",
    "        # pin_memory=True,\n",
    "        drop_last=True)\n",
    "    \n",
    "\n",
    "    return training_loader, test_loader"
   ]
  },
  {
   "cell_type": "code",
   "execution_count": 7,
   "metadata": {},
   "outputs": [],
   "source": [
    "composed = Compose(\n",
    "    [ToSpectrogram(1),\n",
    "     ToTensor(), Normalize((35.8871, 23.5386))])\n",
    "\n",
    "# (tensor([35.8871]), tensor([23.5386]))\n",
    "\n",
    "dataset_training = MeuDataset(\n",
    "    \"./data/\", \"./data/spoken-language-identification/training.csv\", composed)\n",
    "\n",
    "dataset_test = MeuDataset(\"./data/\",\n",
    "                          \"./data/spoken-language-identification/test.csv\",\n",
    "                          composed)\n",
    "\n",
    "# librosa.display.specshow(a, y_axis='mel', fmax=8000, x_axis='time')\n",
    "# Image.show(a, figsize=(20, 5), cmap=None, hide_axis=False)"
   ]
  },
  {
   "cell_type": "code",
   "execution_count": 8,
   "metadata": {},
   "outputs": [
    {
     "name": "stdout",
     "output_type": "stream",
     "text": [
      "GPU is available\n"
     ]
    }
   ],
   "source": [
    "# torch.cuda.is_available() checks and returns a Boolean True if a GPU is available, else it'll return False\n",
    "is_cuda = torch.cuda.is_available()\n",
    "# is_cuda = 0\n",
    "\n",
    "# If we have a GPU available, we'll set our device to GPU. We'll use this device variable later in our code.\n",
    "if is_cuda:\n",
    "    device = torch.device(\"cuda\")\n",
    "    print(\"GPU is available\")\n",
    "else:\n",
    "    device = torch.device(\"cpu\")\n",
    "    print(\"GPU not available, CPU used\")"
   ]
  },
  {
   "cell_type": "code",
   "execution_count": 9,
   "metadata": {},
   "outputs": [],
   "source": [
    "def train(model, dataloader, debug=False):\n",
    "    '''\n",
    "    \n",
    "    '''\n",
    "\n",
    "    model.train()\n",
    "    vis.operation = 'Training'\n",
    "\n",
    "    loss_history = []\n",
    "\n",
    "    # step = # batch\n",
    "    # data = batch contents\n",
    "    # data[0] = tensors\n",
    "    # data[1] = labels\n",
    "\n",
    "    # running_loss = 0.0\n",
    "    for step, data in enumerate(dataloader):\n",
    "\n",
    "        # zero grad\n",
    "        optimizer.zero_grad()\n",
    "\n",
    "        # loading from data, and assigning to cuda\n",
    "        inputs, labels = data\n",
    "        if is_cuda:\n",
    "            inputs = inputs.to(device)\n",
    "            labels = labels.to(device)\n",
    "\n",
    "        outputs = model(inputs).to(device)\n",
    "        # print(\"outputs size:\", outputs.shape)\n",
    "\n",
    "        loss = loss_fn(outputs, labels)\n",
    "\n",
    "        loss.backward()\n",
    "        optimizer.step()\n",
    "\n",
    "        # statistics\n",
    "        # running_loss += loss.item()\n",
    "        loss_history.append(loss.item())\n",
    "\n",
    "        vis.plot_current_batch(step, batch_size, len(dataloader) * batch_size)\n",
    "        vis.update_elapsed_time()\n",
    "\n",
    "        if step % 10 == 0:\n",
    "            vis.plot_loss(np.mean(loss_history[-10:]), step, F\"epoch_{epoch}\")\n",
    "            if debug:\n",
    "                print(F'\\nEpoch: {epoch}')\n",
    "                print(\n",
    "                    F'Samples: {step * batch_size} of {len(dataloader) * batch_size}'\n",
    "                )\n",
    "                print(F'Loss: {loss_history[-1]}\\n')\n",
    "\n",
    "    return loss_history\n",
    "\n",
    "\n",
    "def evaluate(model, dataloader, debug=False):\n",
    "\n",
    "    model.eval()\n",
    "    vis.operation = 'Evaluation'\n",
    "\n",
    "    correct = 0\n",
    "    total = 0\n",
    "    class_correct = [x for x in range(3)]\n",
    "    class_total = [x for x in range(3)]\n",
    "\n",
    "    labels_numpy = np.array([])\n",
    "    predicted_numpy = np.array([])\n",
    "\n",
    "    with torch.no_grad():\n",
    "\n",
    "        for step, data in enumerate(dataloader):\n",
    "\n",
    "            inputs, labels = data\n",
    "\n",
    "            if is_cuda:\n",
    "                inputs = inputs.to(device)\n",
    "                labels = labels.to(device)\n",
    "\n",
    "            outputs = model(inputs)\n",
    "\n",
    "            _, predicted = torch.max(outputs.data, 1)\n",
    "\n",
    "            total += labels.size(0)\n",
    "            correct += (predicted == labels).sum().item()\n",
    "            c = (predicted == labels).squeeze()\n",
    "\n",
    "            # statistics\n",
    "            vis.plot_current_batch(step, batch_size,\n",
    "                                   len(dataloader) * batch_size)\n",
    "            vis.update_elapsed_time()\n",
    "\n",
    "            #for i in range(batch_size):\n",
    "            #label = labels[i]\n",
    "            #class_correct[label] += c[i].item()\n",
    "            #class_total[label] += 1\n",
    "\n",
    "            if debug:\n",
    "                print(F\"\\nTotal Examples: {len(dataloader) * batch_size}\\n\"\n",
    "                      F\"Correct: {correct} of {total}\\n\"\n",
    "                      F\"Labels: {labels}\\n\"\n",
    "                      F\"Predicted: {predicted}\\n\"\n",
    "                      F\"Classes Correct: {class_correct}\"\n",
    "                      F\"Classes Total: {class_total}\")\n",
    "\n",
    "            labels_numpy = np.append(labels_numpy, labels.cpu().numpy())\n",
    "            predicted_numpy = np.append(predicted_numpy,\n",
    "                                        predicted.cpu().numpy())\n",
    "\n",
    "    return labels_numpy, predicted_numpy"
   ]
  },
  {
   "cell_type": "code",
   "execution_count": 10,
   "metadata": {},
   "outputs": [],
   "source": [
    "batch_size = 32\n",
    "nb_classes = 3\n",
    "nb_epochs = 10\n",
    "\n",
    "eval_first = False\n",
    "\n",
    "# training_loader, test_loader = make_dataloader(dataset_completo,\n",
    "#                                      1.0,\n",
    "#                                      batch_size,\n",
    "#                                      debug=False,\n",
    "#                                      debug_size=0.02)\n",
    "\n",
    "training_loader, _ = make_dataloader(dataset_training,\n",
    "                                     1.0,\n",
    "                                     batch_size,\n",
    "                                     debug=False,\n",
    "                                     debug_size=0.01)\n",
    "\n",
    "test_loader, _ = make_dataloader(dataset_test,\n",
    "                                 1.0,\n",
    "                                 batch_size,\n",
    "                                 debug=False,\n",
    "                                 debug_size=0.5)\n",
    "\n",
    "model = CRNN((128, 862), nb_classes)\n",
    "model.apply(init_weights)\n",
    "learning_rate = 1e-3\n",
    "\n",
    "if is_cuda:\n",
    "    torch.cuda.empty_cache()\n",
    "    model.cuda()\n",
    "\n",
    "loss_fn = nn.NLLLoss()  #.cuda()\n",
    "optimizer = torch.optim.AdamW(model.parameters(), lr=learning_rate)\n",
    "\n",
    "# load_model(model, optimizer, 2)"
   ]
  },
  {
   "cell_type": "code",
   "execution_count": 11,
   "metadata": {},
   "outputs": [
    {
     "name": "stdout",
     "output_type": "stream",
     "text": [
      "Normalized confusion matrix\n",
      "[[0.40116279 0.54069767 0.05813953]\n",
      " [0.         0.96449704 0.03550296]\n",
      " [0.         0.         1.        ]]\n"
     ]
    },
    {
     "name": "stderr",
     "output_type": "stream",
     "text": [
      "/home/martin/Documentos/PythonEnvironments/tcc-py3.7/lib/python3.7/site-packages/torch/serialization.py:256: UserWarning: Couldn't retrieve source code for container of type CRNN. It won't be checked for correctness upon loading.\n",
      "  \"type \" + obj.__name__ + \". It won't be checked \"\n"
     ]
    },
    {
     "name": "stdout",
     "output_type": "stream",
     "text": [
      "Normalized confusion matrix\n",
      "[[0.87058824 0.08823529 0.04117647]\n",
      " [0.05882353 0.91176471 0.02941176]\n",
      " [0.14534884 0.01162791 0.84302326]]\n"
     ]
    },
    {
     "name": "stderr",
     "output_type": "stream",
     "text": [
      "/home/martin/Documentos/PythonEnvironments/tcc-py3.7/lib/python3.7/site-packages/torch/serialization.py:256: UserWarning: Couldn't retrieve source code for container of type CRNN. It won't be checked for correctness upon loading.\n",
      "  \"type \" + obj.__name__ + \". It won't be checked \"\n"
     ]
    },
    {
     "name": "stdout",
     "output_type": "stream",
     "text": [
      "Normalized confusion matrix\n",
      "[[0.81065089 0.03550296 0.15384615]\n",
      " [0.10059172 0.76331361 0.13609467]\n",
      " [0.02873563 0.         0.97126437]]\n"
     ]
    },
    {
     "name": "stderr",
     "output_type": "stream",
     "text": [
      "/home/martin/Documentos/PythonEnvironments/tcc-py3.7/lib/python3.7/site-packages/torch/serialization.py:256: UserWarning: Couldn't retrieve source code for container of type CRNN. It won't be checked for correctness upon loading.\n",
      "  \"type \" + obj.__name__ + \". It won't be checked \"\n"
     ]
    },
    {
     "name": "stdout",
     "output_type": "stream",
     "text": [
      "Normalized confusion matrix\n",
      "[[0.38596491 0.33918129 0.2748538 ]\n",
      " [0.00584795 0.91812865 0.07602339]\n",
      " [0.         0.02352941 0.97647059]]\n"
     ]
    },
    {
     "name": "stderr",
     "output_type": "stream",
     "text": [
      "/home/martin/Documentos/PythonEnvironments/tcc-py3.7/lib/python3.7/site-packages/torch/serialization.py:256: UserWarning: Couldn't retrieve source code for container of type CRNN. It won't be checked for correctness upon loading.\n",
      "  \"type \" + obj.__name__ + \". It won't be checked \"\n"
     ]
    },
    {
     "name": "stdout",
     "output_type": "stream",
     "text": [
      "Normalized confusion matrix\n",
      "[[0.85714286 0.03571429 0.10714286]\n",
      " [0.         0.95953757 0.04046243]\n",
      " [0.04093567 0.01169591 0.94736842]]\n"
     ]
    },
    {
     "name": "stderr",
     "output_type": "stream",
     "text": [
      "/home/martin/Documentos/PythonEnvironments/tcc-py3.7/lib/python3.7/site-packages/torch/serialization.py:256: UserWarning: Couldn't retrieve source code for container of type CRNN. It won't be checked for correctness upon loading.\n",
      "  \"type \" + obj.__name__ + \". It won't be checked \"\n"
     ]
    },
    {
     "name": "stdout",
     "output_type": "stream",
     "text": [
      "Normalized confusion matrix\n",
      "[[0.88757396 0.04733728 0.06508876]\n",
      " [0.04093567 0.94736842 0.01169591]\n",
      " [0.10465116 0.02325581 0.87209302]]\n"
     ]
    },
    {
     "name": "stderr",
     "output_type": "stream",
     "text": [
      "/home/martin/Documentos/PythonEnvironments/tcc-py3.7/lib/python3.7/site-packages/torch/serialization.py:256: UserWarning: Couldn't retrieve source code for container of type CRNN. It won't be checked for correctness upon loading.\n",
      "  \"type \" + obj.__name__ + \". It won't be checked \"\n"
     ]
    },
    {
     "name": "stdout",
     "output_type": "stream",
     "text": [
      "Normalized confusion matrix\n",
      "[[0.92771084 0.02409639 0.04819277]\n",
      " [0.00578035 0.89595376 0.0982659 ]\n",
      " [0.02312139 0.         0.97687861]]\n"
     ]
    },
    {
     "name": "stderr",
     "output_type": "stream",
     "text": [
      "/home/martin/Documentos/PythonEnvironments/tcc-py3.7/lib/python3.7/site-packages/torch/serialization.py:256: UserWarning: Couldn't retrieve source code for container of type CRNN. It won't be checked for correctness upon loading.\n",
      "  \"type \" + obj.__name__ + \". It won't be checked \"\n"
     ]
    },
    {
     "name": "stdout",
     "output_type": "stream",
     "text": [
      "Normalized confusion matrix\n",
      "[[0.97674419 0.00581395 0.01744186]\n",
      " [0.0295858  0.9408284  0.0295858 ]\n",
      " [0.06432749 0.03508772 0.9005848 ]]\n"
     ]
    },
    {
     "name": "stderr",
     "output_type": "stream",
     "text": [
      "/home/martin/Documentos/PythonEnvironments/tcc-py3.7/lib/python3.7/site-packages/torch/serialization.py:256: UserWarning: Couldn't retrieve source code for container of type CRNN. It won't be checked for correctness upon loading.\n",
      "  \"type \" + obj.__name__ + \". It won't be checked \"\n"
     ]
    },
    {
     "name": "stdout",
     "output_type": "stream",
     "text": [
      "Normalized confusion matrix\n",
      "[[0.99408284 0.         0.00591716]\n",
      " [0.05813953 0.93023256 0.01162791]\n",
      " [0.20467836 0.01754386 0.77777778]]\n"
     ]
    },
    {
     "name": "stderr",
     "output_type": "stream",
     "text": [
      "/home/martin/Documentos/PythonEnvironments/tcc-py3.7/lib/python3.7/site-packages/torch/serialization.py:256: UserWarning: Couldn't retrieve source code for container of type CRNN. It won't be checked for correctness upon loading.\n",
      "  \"type \" + obj.__name__ + \". It won't be checked \"\n"
     ]
    },
    {
     "name": "stdout",
     "output_type": "stream",
     "text": [
      "Normalized confusion matrix\n",
      "[[0.98224852 0.00591716 0.01183432]\n",
      " [0.03550296 0.8816568  0.08284024]\n",
      " [0.09770115 0.00574713 0.89655172]]\n"
     ]
    },
    {
     "name": "stderr",
     "output_type": "stream",
     "text": [
      "/home/martin/Documentos/PythonEnvironments/tcc-py3.7/lib/python3.7/site-packages/torch/serialization.py:256: UserWarning: Couldn't retrieve source code for container of type CRNN. It won't be checked for correctness upon loading.\n",
      "  \"type \" + obj.__name__ + \". It won't be checked \"\n"
     ]
    }
   ],
   "source": [
    "#summary(model, (1, 128, 862))\n",
    "epoch_loss_history = []\n",
    "epoch_eval_history = []\n",
    "vis.epoch_total = nb_epochs\n",
    "\n",
    "for epoch in range(nb_epochs):\n",
    "\n",
    "    # stats\n",
    "    vis.epoch_current += 1\n",
    "\n",
    "    if not eval_first or epoch > 0:\n",
    "        loss_history = train(model, dataloader=training_loader, debug=False)\n",
    "        epoch_loss_history.append(loss_history)\n",
    "        vis.plot_epoch_loss(epoch_loss_history)\n",
    "\n",
    "    true_labels, predicted_labels = evaluate(model,\n",
    "                                             dataloader=test_loader,\n",
    "                                             debug=False)\n",
    "    epoch_eval_history.append((true_labels, predicted_labels))\n",
    "\n",
    "    # stats\n",
    "    vis.plot_confusion_matrix(true_labels, predicted_labels)\n",
    "    vis.plot_roc_auc_score(true_labels, predicted_labels, epoch)\n",
    "    \n",
    "    # save after each epoch\n",
    "    save_model(F'epoch_{epoch + 1}')\n",
    "\n",
    "vis.update_elapsed_time(isFinished=True)"
   ]
  },
  {
   "cell_type": "code",
   "execution_count": 53,
   "metadata": {},
   "outputs": [
    {
     "data": {
      "image/png": "[encoded data removed]",
      "text/plain": [
       "<Figure size 720x576 with 1 Axes>"
      ]
     },
     "metadata": {
      "needs_background": "light"
     },
     "output_type": "display_data"
    }
   ],
   "source": [
    "from sklearn.metrics import roc_curve, roc_auc_score, auc, precision_recall_fscore_support\n",
    "from sklearn.preprocessing import LabelBinarizer, label_binarize\n",
    "from itertools import cycle\n",
    "import matplotlib.pyplot as plt\n",
    "\n",
    "label_real = epoch_eval_history[9][0][:]\n",
    "label_pred = epoch_eval_history[9][1][:]\n",
    "\n",
    "lb = LabelBinarizer()\n",
    "lb.fit(label_real)\n",
    "\n",
    "label_real_binarizado = lb.transform(label_real)\n",
    "label_pred_binarizado = lb.transform(label_pred)\n",
    "n_classes = 3\n",
    "\n",
    "fpr = dict()\n",
    "tpr = dict()\n",
    "roc_auc = dict()\n",
    "f1_score_list = list()\n",
    "for i in range(nb_classes):\n",
    "    fpr[i], tpr[i], threshold = roc_curve(label_real_binarizado[:, i],\n",
    "                                          label_pred_binarizado[:, i])\n",
    "    roc_auc[i] = auc(fpr[i], tpr[i])\n",
    "    f1_score_list.append(\n",
    "        precision_recall_fscore_support(label_real_binarizado[:, i],\n",
    "                                        label_pred_binarizado[:, i],\n",
    "                                        average='macro'))\n",
    "\n",
    "roc_auc_score(label_real_binarizado, label_pred_binarizado, average=\"macro\")\n",
    "\n",
    "# funcao plot roc\n",
    "# Compute macro-average ROC curve and ROC area\n",
    "\n",
    "# First aggregate all false positive rates\n",
    "all_fpr = np.unique(np.concatenate([fpr[i] for i in range(n_classes)]))\n",
    "\n",
    "# Then interpolate all ROC curves at this points\n",
    "mean_tpr = np.zeros_like(all_fpr)\n",
    "for i in range(n_classes):\n",
    "    mean_tpr += np.interp(all_fpr, fpr[i], tpr[i])\n",
    "\n",
    "# Finally average it and compute AUC\n",
    "mean_tpr /= n_classes\n",
    "\n",
    "fpr[\"macro\"] = all_fpr\n",
    "tpr[\"macro\"] = mean_tpr\n",
    "roc_auc[\"macro\"] = auc(fpr[\"macro\"], tpr[\"macro\"])\n",
    "\n",
    "# Plot all ROC curves\n",
    "plt.figure(figsize=(10, 8))\n",
    "# plt.plot(fpr[\"micro\"],\n",
    "#          tpr[\"micro\"],\n",
    "#          label='micro-average ROC curve (area = {0:0.2f})'\n",
    "#          ''.format(roc_auc[\"micro\"]),\n",
    "#          color='deeppink',\n",
    "#          linestyle=':',\n",
    "#          linewidth=4)\n",
    "\n",
    "lw = 3\n",
    "\n",
    "plt.plot(fpr[\"macro\"],\n",
    "         tpr[\"macro\"],\n",
    "         label='macro-average ROC curve (area = {0:0.2f})'\n",
    "         ''.format(roc_auc[\"macro\"]),\n",
    "         color='navy',\n",
    "         linestyle=':',\n",
    "         linewidth=4)\n",
    "\n",
    "colors = cycle(['aqua', 'darkorange', 'cornflowerblue'])\n",
    "for i, color in zip(range(n_classes), colors):\n",
    "    plt.plot(fpr[i],\n",
    "             tpr[i],\n",
    "             color=color,\n",
    "             lw=lw,\n",
    "             label='ROC curve of class {0} (area = {1:0.2f})'\n",
    "             ''.format(i, roc_auc[i]))\n",
    "\n",
    "plt.plot([0, 1], [0, 1], 'k--', lw=lw)\n",
    "plt.xlim([0.0, 1.0])\n",
    "plt.ylim([0.0, 1.05])\n",
    "plt.xlabel('Taxa Falsos Positivos')\n",
    "plt.ylabel('Taxa Verdadeiros Positivos')\n",
    "plt.title('Extensão de Curva COR em Multi-Classe')\n",
    "plt.legend(loc=\"lower right\")\n",
    "plt.show()"
   ]
  },
  {
   "cell_type": "code",
   "execution_count": 54,
   "metadata": {},
   "outputs": [],
   "source": [
    "# save_model('epoch_10')"
   ]
  },
  {
   "cell_type": "code",
   "execution_count": 66,
   "metadata": {},
   "outputs": [
    {
     "data": {
      "text/plain": [
       "(0.9270177838577291, 0.9246072230157111, 0.925793305710437, None)"
      ]
     },
     "execution_count": 66,
     "metadata": {},
     "output_type": "execute_result"
    }
   ],
   "source": [
    "precision_recall_fscore_support(label_real_binarizado[:, 2], label_pred_binarizado[:, 2], average='macro')"
   ]
  },
  {
   "cell_type": "code",
   "execution_count": 74,
   "metadata": {},
   "outputs": [
    {
     "data": {
      "text/plain": [
       "0.9246072230157111"
      ]
     },
     "execution_count": 74,
     "metadata": {},
     "output_type": "execute_result"
    }
   ],
   "source": [
    "roc_auc[2]"
   ]
  },
  {
   "cell_type": "code",
   "execution_count": 76,
   "metadata": {},
   "outputs": [
    {
     "name": "stdout",
     "output_type": "stream",
     "text": [
      "----------------------------------------------------------------\n",
      "        Layer (type)               Output Shape         Param #\n",
      "================================================================\n",
      "            Conv2d-1         [-1, 32, 123, 858]         165,312\n",
      "       BatchNorm2d-2         [-1, 32, 123, 858]              64\n",
      "         LeakyReLU-3         [-1, 32, 123, 858]               0\n",
      "         MaxPool2d-4           [-1, 32, 15, 53]               0\n",
      "            Conv2d-5         [-1, 32, 123, 858]          20,480\n",
      "       BatchNorm2d-6         [-1, 32, 123, 858]              64\n",
      "         LeakyReLU-7         [-1, 32, 123, 858]               0\n",
      "         MaxPool2d-8           [-1, 32, 15, 53]               0\n",
      "            Linear-9                    [-1, 3]         152,643\n",
      "================================================================\n",
      "Total params: 338,563\n",
      "Trainable params: 338,563\n",
      "Non-trainable params: 0\n",
      "----------------------------------------------------------------\n",
      "Input size (MB): 0.42\n",
      "Forward/backward pass size (MB): 154.98\n",
      "Params size (MB): 1.29\n",
      "Estimated Total Size (MB): 156.69\n",
      "----------------------------------------------------------------\n"
     ]
    },
    {
     "name": "stderr",
     "output_type": "stream",
     "text": [
      "ERROR:visdom:Connection is already closed.\n",
      "ERROR:visdom:[Errno 111] Connection refused\n",
      "ERROR:visdom:[Errno 111] Connection refused\n",
      "ERROR:visdom:[Errno 111] Connection refused\n",
      "ERROR:visdom:[Errno 111] Connection refused\n",
      "ERROR:visdom:[Errno 111] Connection refused\n",
      "ERROR:visdom:[Errno 111] Connection refused\n",
      "ERROR:visdom:[Errno 111] Connection refused\n",
      "ERROR:visdom:[Errno 111] Connection refused\n"
     ]
    }
   ],
   "source": [
    "# from torchsummary import summary\n",
    "# summary(model, (1, 128, 862))"
   ]
  },
  {
   "cell_type": "code",
   "execution_count": 15,
   "metadata": {},
   "outputs": [],
   "source": [
    "# np.pad(array, (0, 150000), 'constant', constant_values=0)[:10]"
   ]
  },
  {
   "cell_type": "code",
   "execution_count": 16,
   "metadata": {},
   "outputs": [],
   "source": [
    "# x = pyrb.pitch_shift(array, rate, -2.25)\n",
    "# ipd.Audio(a, rate=rate)"
   ]
  },
  {
   "cell_type": "code",
   "execution_count": 17,
   "metadata": {},
   "outputs": [],
   "source": [
    "# teste.shape"
   ]
  },
  {
   "cell_type": "code",
   "execution_count": 18,
   "metadata": {},
   "outputs": [],
   "source": [
    "# D.shape"
   ]
  },
  {
   "cell_type": "code",
   "execution_count": null,
   "metadata": {},
   "outputs": [],
   "source": []
  }
 ],
 "metadata": {
  "kernelspec": {
   "display_name": "Python 3",
   "language": "python",
   "name": "python3"
  },
  "language_info": {
   "codemirror_mode": {
    "name": "ipython",
    "version": 3
   },
   "file_extension": ".py",
   "mimetype": "text/x-python",
   "name": "python",
   "nbconvert_exporter": "python",
   "pygments_lexer": "ipython3",
   "version": "3.7.4"
  }
 },
 "nbformat": 4,
 "nbformat_minor": 2
}
